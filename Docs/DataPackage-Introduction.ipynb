{
 "cells": [
  {
   "cell_type": "code",
   "execution_count": null,
   "metadata": {
    "dotnet_interactive": {
     "language": "csharp"
    }
   },
   "outputs": [
    {
     "data": {
      "text/plain": "Installing package DataBoss.DataPackage, version 0.0.93..."
     },
     "output_type": "unknown"
    },
    {
     "data": {
      "text/plain": "Installing package DataBoss.Data, version 0.0.93..."
     },
     "output_type": "unknown"
    },
    {
     "data": {
      "application/x.notebook.error-traceback": {
       "ename": "Error",
       "evalue": "C:\\Users\\drunkcod\\AppData\\Local\\Temp\\nuget\\21936--ac062a0e-7144-4b62-a63a-27958fdb990e\\Project.fsproj : error NU1102: Unable to find package DataBoss.DataPackage with version (>= 0.0.93)\r\nC:\\Users\\drunkcod\\AppData\\Local\\Temp\\nuget\\21936--ac062a0e-7144-4b62-a63a-27958fdb990e\\Project.fsproj : error NU1102:   - Found 26 version(s) in nuget.org [ Nearest version: 0.0.92 ]\r\nC:\\Users\\drunkcod\\AppData\\Local\\Temp\\nuget\\21936--ac062a0e-7144-4b62-a63a-27958fdb990e\\Project.fsproj : error NU1102:   - Found 0 version(s) in Microsoft Visual Studio Offline Packages",
       "traceback": []
      }
     },
     "output_type": "unknown"
    }
   ],
   "source": [
    "#r \"nuget:DataBoss.DataPackage, 0.0.93\"\r\n",
    "#r \"nuget:DataBoss.Data, 0.0.93\"\r\n",
    "//standard includes\r\n",
    "using DataBoss.Data;\r\n",
    "using DataBoss.DataPackage;"
   ]
  },
  {
   "cell_type": "markdown",
   "metadata": {},
   "source": [
    "_visualization functions, you can safely skip this cell_"
   ]
  },
  {
   "cell_type": "code",
   "execution_count": null,
   "metadata": {
    "dotnet_interactive": {
     "language": "csharp"
    }
   },
   "outputs": [],
   "source": [
    "using System.Data;\r\n",
    "using Microsoft.DotNet.Interactive.Formatting;\r\n",
    "using static Microsoft.DotNet.Interactive.Formatting.PocketViewTags;\r\n",
    "\r\n",
    "static void Dump(DataPackage dp, int? limit = null) {\r\n",
    "    var rs = dp.Resources\r\n",
    "        .Where(x => x.Format == \"csv\")\r\n",
    "        .Select(x => (Heading: th(x.Name), Result: td(ReadAsHtmlTable(x.Read(), limit: limit))))\r\n",
    "        .ToList();\r\n",
    "\r\n",
    "    display(table(\r\n",
    "        thead(rs.Select(x => x.Heading)),\r\n",
    "        tbody(rs.Select(x => x.Result))\r\n",
    "    ));\r\n",
    "}\r\n",
    "\r\n",
    "static object Dump(DataBoss.DataPackage.TabularDataResource xs, int? limit = null) => Dump(xs.Read(), limit: limit);\r\n",
    "\r\n",
    "static object Dump(IDataReader xs, int? limit = null) => display(ReadAsHtmlTable(xs, limit: limit));\r\n",
    "\r\n",
    "static object ReadAsHtmlTable(IDataReader xs, int? limit = null) {\r\n",
    "    try {\r\n",
    "        limit ??= int.MaxValue;\r\n",
    "        var rows = new List<object>();\r\n",
    "        for(var i = 0;xs.Read() && i < limit; ++i)\r\n",
    "            rows.Add(Enumerable.Range(0, xs.FieldCount).Select(x => td(xs.GetValue(x))).ToList());\r\n",
    "\r\n",
    "        return table(\r\n",
    "            thead(Enumerable.Range(0, xs.FieldCount).Select(x => th[style:\"font-weight:bold\"](xs.GetName(x)))),\r\n",
    "            tbody(rows.Select(x => tr(x))));\r\n",
    "    } finally {\r\n",
    "        xs.Dispose();\r\n",
    "    } \r\n",
    "}\r\n"
   ]
  },
  {
   "cell_type": "markdown",
   "metadata": {},
   "source": [
    "# Defining a simple resource"
   ]
  },
  {
   "cell_type": "code",
   "execution_count": null,
   "metadata": {
    "dotnet_interactive": {
     "language": "csharp"
    }
   },
   "outputs": [
    {
     "data": {
      "text/html": "<table><thead><th>numbers</th></thead><tbody><td><table><thead><th style=\"font-weight:bold\">Value</th></thead><tbody><tr><td><div class=\"dni-plaintext\">0</div></td></tr><tr><td><div class=\"dni-plaintext\">1</div></td></tr></tbody></table></td></tbody></table>"
     },
     "output_type": "unknown"
    }
   ],
   "source": [
    "var dp = new DataPackage();\r\n",
    "\r\n",
    "dp.AddResource(xs => xs.WithName(\"numbers\").WithData(Enumerable.Range(0, 2).Select(x => new { Value = x })));\r\n",
    "\r\n",
    "Dump(dp);"
   ]
  },
  {
   "cell_type": "markdown",
   "metadata": {},
   "source": [
    "**DataPackage.Load** supports directory paths containing a datapackage.json, zip files and http."
   ]
  },
  {
   "cell_type": "code",
   "execution_count": null,
   "metadata": {
    "dotnet_interactive": {
     "language": "csharp"
    }
   },
   "outputs": [],
   "source": [
    "var countries = DataPackage.Load(@\"https://datahub.io/core/country-list/r/country-list_zip.zip\");"
   ]
  },
  {
   "cell_type": "code",
   "execution_count": null,
   "metadata": {
    "dotnet_interactive": {
     "language": "csharp"
    }
   },
   "outputs": [
    {
     "data": {
      "text/html": "<table><thead><th style=\"font-weight:bold\">Name</th><th style=\"font-weight:bold\">Code</th></thead><tbody><tr><td>Afghanistan</td><td>AF</td></tr><tr><td>&#197;land Islands</td><td>AX</td></tr><tr><td>Albania</td><td>AL</td></tr><tr><td>Algeria</td><td>DZ</td></tr><tr><td>American Samoa</td><td>AS</td></tr><tr><td>Andorra</td><td>AD</td></tr><tr><td>Angola</td><td>AO</td></tr><tr><td>Anguilla</td><td>AI</td></tr><tr><td>Antarctica</td><td>AQ</td></tr><tr><td>Antigua and Barbuda</td><td>AG</td></tr></tbody></table>"
     },
     "output_type": "unknown"
    }
   ],
   "source": [
    "Dump(countries.GetResource(\"data_csv\"), limit: 10);"
   ]
  },
  {
   "cell_type": "markdown",
   "metadata": {},
   "source": [
    "# Resource (DataReader) Transformation"
   ]
  },
  {
   "cell_type": "code",
   "execution_count": null,
   "metadata": {
    "dotnet_interactive": {
     "language": "csharp"
    }
   },
   "outputs": [
    {
     "data": {
      "text/html": "<table><thead><th>countries</th></thead><tbody><td><table><thead><th style=\"font-weight:bold\">Id</th><th style=\"font-weight:bold\">Name</th><th style=\"font-weight:bold\">Code</th><th style=\"font-weight:bold\">NameLen</th><th style=\"font-weight:bold\">Source</th></thead><tbody><tr><td><div class=\"dni-plaintext\">1</div></td><td>AFGHANISTAN</td><td>af</td><td><div class=\"dni-plaintext\">11</div></td><td>Afghanistan (AF)</td></tr><tr><td><div class=\"dni-plaintext\">2</div></td><td>&#197;LAND ISLANDS</td><td>ax</td><td><div class=\"dni-plaintext\">13</div></td><td>&#197;land Islands (AX)</td></tr><tr><td><div class=\"dni-plaintext\">3</div></td><td>ALBANIA</td><td>al</td><td><div class=\"dni-plaintext\">7</div></td><td>Albania (AL)</td></tr><tr><td><div class=\"dni-plaintext\">4</div></td><td>ALGERIA</td><td>dz</td><td><div class=\"dni-plaintext\">7</div></td><td>Algeria (DZ)</td></tr><tr><td><div class=\"dni-plaintext\">5</div></td><td>AMERICAN SAMOA</td><td>as</td><td><div class=\"dni-plaintext\">14</div></td><td>American Samoa (AS)</td></tr><tr><td><div class=\"dni-plaintext\">6</div></td><td>ANDORRA</td><td>ad</td><td><div class=\"dni-plaintext\">7</div></td><td>Andorra (AD)</td></tr><tr><td><div class=\"dni-plaintext\">7</div></td><td>ANGOLA</td><td>ao</td><td><div class=\"dni-plaintext\">6</div></td><td>Angola (AO)</td></tr><tr><td><div class=\"dni-plaintext\">8</div></td><td>ANGUILLA</td><td>ai</td><td><div class=\"dni-plaintext\">8</div></td><td>Anguilla (AI)</td></tr><tr><td><div class=\"dni-plaintext\">9</div></td><td>ANTARCTICA</td><td>aq</td><td><div class=\"dni-plaintext\">10</div></td><td>Antarctica (AQ)</td></tr><tr><td><div class=\"dni-plaintext\">10</div></td><td>ANTIGUA AND BARBUDA</td><td>ag</td><td><div class=\"dni-plaintext\">19</div></td><td>Antigua and Barbuda (AG)</td></tr></tbody></table></td></tbody></table>"
     },
     "output_type": "unknown"
    }
   ],
   "source": [
    "var c2 = new DataPackage();\r\n",
    "\r\n",
    "c2.AddResource(countries.GetResource(\"data_csv\"));\r\n",
    "c2.UpdateResource(\"data_csv\", xs => xs\r\n",
    "    .WithName(\"countries\") //resource can be renamed.\r\n",
    "    .Transform(x => \r\n",
    "    {\r\n",
    "        var id = 0;\r\n",
    "        x.Transform(\"Code\", (string value) => value.ToLower()); //typed transform\r\n",
    "        x.Add(0, \"Id\", r => ++id); //columns can be added at any existing ordinal\r\n",
    "        x.Transform(\"Name\", (string value) => value.ToUpper());\r\n",
    "        x.Add(\"NameLen\", r => r[\"Name\"].ToString().Length); //record based\r\n",
    "        x.Add(\"Source\", r => $\"{r.Source[\"Name\"]} ({r.Source[\"Code\"]})\"); //from non transformed source\r\n",
    "    })\r\n",
    ");\r\n",
    "Dump(c2, limit: 10);"
   ]
  },
  {
   "cell_type": "markdown",
   "metadata": {},
   "source": [
    "# Creating Resrouces Incrementally"
   ]
  },
  {
   "cell_type": "code",
   "execution_count": null,
   "metadata": {
    "dotnet_interactive": {
     "language": "csharp"
    }
   },
   "outputs": [
    {
     "data": {
      "text/html": "<table><thead><th>numbers</th></thead><tbody><td><table><thead><th style=\"font-weight:bold\">Value</th></thead><tbody><tr><td><div class=\"dni-plaintext\">1</div></td></tr><tr><td><div class=\"dni-plaintext\">2</div></td></tr><tr><td><div class=\"dni-plaintext\">3</div></td></tr></tbody></table></td></tbody></table>"
     },
     "output_type": "unknown"
    },
    {
     "data": {
      "text/plain": "---[ Update ]---\r\n"
     },
     "output_type": "unknown"
    },
    {
     "data": {
      "text/html": "<table><thead><th>numbers</th></thead><tbody><td><table><thead><th style=\"font-weight:bold\">Value</th></thead><tbody><tr><td><div class=\"dni-plaintext\">1</div></td></tr><tr><td><div class=\"dni-plaintext\">2</div></td></tr><tr><td><div class=\"dni-plaintext\">3</div></td></tr><tr><td><div class=\"dni-plaintext\">4</div></td></tr><tr><td><div class=\"dni-plaintext\">5</div></td></tr><tr><td><div class=\"dni-plaintext\">6</div></td></tr></tbody></table></td></tbody></table>"
     },
     "output_type": "unknown"
    }
   ],
   "source": [
    "var n = 0;\r\n",
    "var numbers = Enumerable.Range(0, 3).Select(x => new { Value = ++n });\r\n",
    "var myNumbers  = new DataPackage();\r\n",
    "\r\n",
    "void AddOrAppend<T>(DataPackage dp, string name, IEnumerable<T> rows) {\r\n",
    "    dp.AddOrUpdateResource(name, xs => xs.WithData(rows), xs => xs.WithData(() => xs.Read().Concat(rows)));\r\n",
    "}\r\n",
    "\r\n",
    "AddOrAppend(myNumbers, \"numbers\", numbers.ToList());\r\n",
    "Dump(myNumbers);\r\n",
    "Console.WriteLine(\"---[ Update ]---\");\r\n",
    "AddOrAppend(myNumbers, \"numbers\", numbers.ToList());\r\n",
    "Dump(myNumbers);\r\n"
   ]
  }
 ],
 "metadata": {
  "kernelspec": {
   "display_name": ".NET (C#)",
   "language": "C#",
   "name": ".net-csharp"
  },
  "language_info": {
   "file_extension": ".cs",
   "mimetype": "text/x-csharp",
   "name": "C#",
   "pygments_lexer": "csharp",
   "version": "9.0"
  },
  "orig_nbformat": 2
 },
 "nbformat": 4,
 "nbformat_minor": 2
}